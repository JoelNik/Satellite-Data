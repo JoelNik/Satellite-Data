{
 "cells": [
  {
   "cell_type": "markdown",
   "metadata": {},
   "source": [
    "Mean to visualize more information related to Planet's CA coverage. "
   ]
  },
  {
   "cell_type": "code",
   "execution_count": 1,
   "metadata": {
    "collapsed": true
   },
   "outputs": [],
   "source": [
    "api_key = "
   ]
  },
  {
   "cell_type": "code",
   "execution_count": 2,
   "metadata": {
    "collapsed": true
   },
   "outputs": [],
   "source": [
    "import os\n",
    "import json \n",
    "import requests\n",
    "from requests.auth import HTTPBasicAuth"
   ]
  },
  {
   "cell_type": "code",
   "execution_count": 3,
   "metadata": {
    "collapsed": true
   },
   "outputs": [],
   "source": [
    "session = requests.Session()\n",
    "session.auth = (api_key, '')"
   ]
  },
  {
   "cell_type": "code",
   "execution_count": 9,
   "metadata": {
    "collapsed": true
   },
   "outputs": [],
   "source": [
    "# Sends an API request for current item types. \n",
    "result =  session.get('https://api.planet.com/data/v1/item-types/')"
   ]
  },
  {
   "cell_type": "code",
   "execution_count": 10,
   "metadata": {},
   "outputs": [
    {
     "name": "stdout",
     "output_type": "stream",
     "text": [
      "PSScene4Band    |    4-band PlanetScope scene\n",
      "PSScene3Band    |    3-band PlanetScope scene\n",
      "REScene    |    RapidEye basic scene\n",
      "REOrthoTile    |    RapidEye ortho tile\n",
      "Sentinel2L1C    |    Sentinel-2 tiles\n",
      "PSOrthoTile    |    PlanetScope ortho tile\n",
      "Landsat8L1G    |    Landsat 8 scenes\n"
     ]
    }
   ],
   "source": [
    "result_json = result.json()\n",
    "for image_type in result_json['item_types']:\n",
    "    print image_type['id'] + '    |    ' + image_type['display_name']\n"
   ]
  },
  {
   "cell_type": "code",
   "execution_count": 6,
   "metadata": {
    "collapsed": true
   },
   "outputs": [],
   "source": [
    "# Sends an API request for current item types. \n",
    "result =  session.get('https://api.planet.com/data/v1/asset-types/')"
   ]
  },
  {
   "cell_type": "code",
   "execution_count": 7,
   "metadata": {},
   "outputs": [
    {
     "name": "stdout",
     "output_type": "stream",
     "text": [
      "basic_analytic_rpc_nitf    |    RPC for basic analytic image in NITF format\n",
      "basic_analytic_dn_xml_nitf    |    Basic analytic digital number image metadata in NITF format\n",
      "basic_analytic_xml    |    Basic analytic image metadata\n",
      "basic_analytic_nitf    |    Basic analytic image in NITF format\n",
      "analytic_bqa    |    Band QA\n",
      "analytic_dn    |    Analytic digital number image\n",
      "basic_analytic_b2    |    Green Band (Band2) of the Analytic Basic scene\n",
      "basic_analytic_b3    |    Red Band (Band3) of the Analytic Basic scene\n",
      "basic_analytic_b5_nitf    |    Near Infrared Band (Band5) of the Analytic Basic scene in the NITF format\n",
      "basic_analytic_b1_nitf    |    Blue Band (Band1) of the Analytic Basic scene in the NITF format\n",
      "analytic_b5    |    Band 5\n",
      "metadata_txt    |    Metadata in a text format\n",
      "analytic_b11    |    Band 11\n",
      "analytic_b10    |    Band 10\n",
      "analytic_b12    |    Band 12\n",
      "basic_analytic_b2_nitf    |    Green Band (Band2) of the Analytic Basic scene in the NITF format\n",
      "browse    |    Basic Scene browse image\n",
      "analytic_b8a    |    Band 8a\n",
      "analytic    |    Analytic image\n",
      "basic_analytic_rpc    |    RPC for basic analytic image\n",
      "basic_analytic_b5    |    NearInfrared Band (Band5) of the Analytic Basic scene\n",
      "basic_analytic    |    Basic analytic image\n",
      "analytic_b1    |    Band 1\n",
      "basic_analytic_b4    |    Red Edge Band (Band4) of the Analytic Basic scene\n",
      "analytic_b2    |    Band 2\n",
      "basic_analytic_dn_rpc    |    RPC for basic analytic digital number image\n",
      "analytic_b4    |    Band 4\n",
      "analytic_b7    |    Band 7\n",
      "analytic_b6    |    Band 6\n",
      "analytic_b9    |    Band 9\n",
      "analytic_b8    |    Band 8\n",
      "basic_analytic_b4_nitf    |    Red Edge Band (Band4) of the Analytic Basic scene in the NITF format\n",
      "basic_analytic_b1    |    Blue Band (Band1) of the Analytic Basic scene\n",
      "basic_analytic_sci    |    Spacecraft Information XML Metadata file\n",
      "visual    |    Visual image\n",
      "basic_analytic_b3_nitf    |    Red Band (Band3) of the Analytic Basic scene in the NITF format\n",
      "basic_analytic_xml_nitf    |    Basic analytic image metadata in NITF format\n",
      "udm    |    UDM\n",
      "analytic_xml    |    Analytic image metadata\n",
      "basic_analytic_dn    |    Basic analytic digital number image\n",
      "basic_analytic_dn_nitf    |    Basic analytic digital number image in NITF format\n",
      "metadata_aux    |    Sentinel metadata\n",
      "analytic_ms    |    True Color Composite\n",
      "basic_udm    |    Basic UDM\n",
      "basic_analytic_dn_rpc_nitf    |    RPC for basic analytic digital number image in NITF format\n",
      "analytic_b3    |    Band 3\n",
      "analytic_dn_xml    |    Analytic digital number image metadata\n",
      "basic_analytic_dn_xml    |    Basic analytic digital number image metadata\n",
      "visual_xml    |    Visual image metadata\n"
     ]
    }
   ],
   "source": [
    "result_json = result.json()\n",
    "for asset_type in result_json['asset_types']:\n",
    "    print asset_type['id'] + '    |    ' + asset_type['display_name']"
   ]
  },
  {
   "cell_type": "code",
   "execution_count": 4,
   "metadata": {},
   "outputs": [],
   "source": [
    "# Bring in our california filter\n",
    "from california_filter import california"
   ]
  },
  {
   "cell_type": "code",
   "execution_count": 7,
   "metadata": {},
   "outputs": [],
   "source": [
    "# Builds the API request for the 4-band Planet images \n",
    "search_request = {\n",
    "  \"item_types\": [\"PSScene4Band\"],\n",
    "  \"filter\": california\n",
    "}\n",
    "\n",
    "# Actually submit the request  \n",
    "result = session.post('https://api.planet.com/data/v1/quick-search',\n",
    "            json=search_request)\n",
    "\n",
    "# Write results to a file \n",
    "with open('results.json', 'w') as f:\n",
    "    result_json = result.json()\n",
    "    f.write(json.dumps(result_json, indent = 4))"
   ]
  },
  {
   "cell_type": "code",
   "execution_count": 5,
   "metadata": {
    "collapsed": true
   },
   "outputs": [],
   "source": [
    "# Builds the API request for the 4-band Planet images - a summary of daily image count (not important for my project)\n",
    "search_request = {\n",
    "    \"interval\": \"day\",\n",
    "    \"item_types\": [\"PSScene4Band\"],\n",
    "    \"filter\": california\n",
    "}\n",
    "\n",
    "# Actually submit the request  \n",
    "result = session.post('https://api.planet.com/data/v1/stats',\n",
    "            json=search_request) \n",
    "\n",
    "# Write results to a file \n",
    "with open('results.json', 'w') as f:\n",
    "    result_json = result.json()\n",
    "    f.write(json.dumps(result_json, indent = 4))"
   ]
  },
  {
   "cell_type": "code",
   "execution_count": 17,
   "metadata": {},
   "outputs": [],
   "source": [
    "# Builds the API request for the 4-band Planet images - dealing with paginated results \n",
    "search_request = {\n",
    "    \"name\": \"ca_coverage\",\n",
    "    \"item_types\": [\"PSScene4Band\"],\n",
    "    \"filter\": california\n",
    "}\n",
    "\n",
    "# Submit request to create a search and save off id  \n",
    "result = session.post('https://api.planet.com/data/v1/searches/',\n",
    "            json=search_request)\n",
    "\n",
    "search_id = result.json()[\"id\"]    \n",
    "\n",
    "\n",
    "# Create an empty array to hold ALL of the results\n",
    "feature_list = []\n",
    "image_metadata = {'type' : 'FeatureCollection',\n",
    "                  'features': feature_list}\n",
    "\n",
    "# Adds each result to our feature list\n",
    "def handle_page(page):\n",
    "    for item in page[\"features\"]:\n",
    "        feature_list.append(item)\n",
    "\n",
    "# Recursively fetches and processes each page of search results \n",
    "def fetch_page(search_url):\n",
    "    page = session.get(search_url).json()\n",
    "    handle_page(page)\n",
    "    next_url = page[\"_links\"].get(\"_next\")\n",
    "    if next_url:\n",
    "        fetch_page(next_url)\n",
    "\n",
    "# Create URL for first page of results \n",
    "first_page = (\"https://api.planet.com/data/v1/searches/{}\" +\n",
    "                \"/results?_page_size={}\").format(search_id, 100)\n",
    "\n",
    "# Kick off API requests\n",
    "fetch_page(first_page)\n",
    "\n",
    "# Write results to a file \n",
    "with open('results.json', 'w') as f:\n",
    "    result_json = result.json()\n",
    "    f.write(json.dumps(result_json, indent = 4))"
   ]
  },
  {
   "cell_type": "code",
   "execution_count": 16,
   "metadata": {},
   "outputs": [],
   "source": [
    "# Write results to a file \n",
    "with open('results.json', 'w') as f:\n",
    "    result_json = result.json()\n",
    "    f.write(json.dumps(result_json, indent = 4))\n"
   ]
  },
  {
   "cell_type": "code",
   "execution_count": 22,
   "metadata": {},
   "outputs": [
    {
     "name": "stdout",
     "output_type": "stream",
     "text": [
      "1201\n",
      "1201\n"
     ]
    }
   ],
   "source": [
    "print len(feature_list)\n",
    "print len(image_metadata['features'])"
   ]
  },
  {
   "cell_type": "code",
   "execution_count": 6,
   "metadata": {},
   "outputs": [
    {
     "name": "stdout",
     "output_type": "stream",
     "text": [
      "{\n",
      "    \"field_name\": \"acquired\", \n",
      "    \"config\": {\n",
      "        \"gte\": \"2017-04-15T12:00:00.000Z\", \n",
      "        \"lte\": \"2017-04-16T12:00:00.000Z\"\n",
      "    }, \n",
      "    \"type\": \"DateRangeFilter\"\n",
      "}\n"
     ]
    }
   ],
   "source": [
    "print json.dumps(california['config'][1], indent = 4)"
   ]
  }
 ],
 "metadata": {
  "kernelspec": {
   "display_name": "Python 2",
   "language": "python",
   "name": "python2"
  },
  "language_info": {
   "codemirror_mode": {
    "name": "ipython",
    "version": 2
   },
   "file_extension": ".py",
   "mimetype": "text/x-python",
   "name": "python",
   "nbconvert_exporter": "python",
   "pygments_lexer": "ipython2",
   "version": "2.7.13"
  }
 },
 "nbformat": 4,
 "nbformat_minor": 2
}
